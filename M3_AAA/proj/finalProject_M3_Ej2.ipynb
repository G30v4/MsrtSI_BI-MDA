{
  "cells": [
    {
      "cell_type": "markdown",
      "metadata": {
        "id": "rayuwVmZZS_E"
      },
      "source": [
        "\n",
        "<center><h1><strong>Final Project - Ex2</strong></h1></center>\n",
        "\n",
        "\n",
        "* __authors__ = [@diegofrencho](https://ec.linkedin.com/in/diegonoguerav) - [@g30v4](https://github.com/g30v4)\n",
        "* __date__ = \"03/07/2021\"\n",
        "* __version__ = \"1.0.0\"\n",
        "* __license__ = \"GPL\"\n",
        "* __module__ = \"Aprendizaje Automático Aplicado\" \n",
        "\n",
        "---\n",
        "## Objetivo :\n",
        "* Aplicar el uso correcto de la librería Theano, para la creación y ejecución del modelos conexionistas"
      ]
    },
    {
      "cell_type": "markdown",
      "metadata": {
        "id": "HQFccaQIZS_I"
      },
      "source": [
        "## **Ejercicio #2**\n",
        "\n",
        "Crear un conjunto de datos aleatorios y utilizar Theano para obtener los parámetros w_0 y w_1 del siguiente modelo:\n",
        "\n",
        "y = log(1 + w_0|x| + w_1x)\n",
        "\n",
        "utilizando los datos generados anteriormente\n",
        "\n",
        "### Objetivos Específicos\n",
        "* Obtener los parámetros w_0 y w_1\n",
        "\n",
        "### Pasos a Realizar\n",
        "* 1) Generar el conjunto de datos\n",
        "* 2) Elaborar el modelo matemático\n",
        "* 3) Obtener los parámetros w_0 y w_1\n",
        "* 4) Graficar el conjunto datos y la función de esfuerzo \n",
        "* 5) Conclusiones"
      ]
    },
    {
      "cell_type": "markdown",
      "metadata": {
        "id": "QXVtQS6PZS_J"
      },
      "source": [
        "## 0) Requisitos Previos"
      ]
    },
    {
      "cell_type": "code",
      "execution_count": null,
      "metadata": {
        "id": "tXwk6PUpZS_J"
      },
      "outputs": [],
      "source": [
        "# Instalación de las librerías o dependencias necesarias\n",
        "# !pip install numpy\n",
        "# !pip install Theano\n",
        "# !pip install matplotlib"
      ]
    },
    {
      "cell_type": "code",
      "execution_count": 22,
      "metadata": {
        "id": "vnUXuLYRZS_K"
      },
      "outputs": [],
      "source": [
        "# Importar librerías\n",
        "import theano # Neural Network\n",
        "import theano.tensor as T\n",
        "import math # funciones matemáticas de python\n",
        "import numpy as np\n",
        "import matplotlib.pyplot as plt # gráficas\n",
        "\n",
        "import warnings\n",
        "warnings.filterwarnings('ignore')"
      ]
    },
    {
      "cell_type": "markdown",
      "metadata": {
        "id": "6mbLeSdCZS_L"
      },
      "source": [
        "## 1) Generar el conjunto de datos"
      ]
    },
    {
      "cell_type": "code",
      "execution_count": 42,
      "metadata": {
        "id": "yjNe06PeZS_M"
      },
      "outputs": [],
      "source": [
        "# Creación del conjunto de datos\n",
        "trX = np.linspace(-1, 1, 101)\n",
        "trY = np.linspace(-1, 1, 101)"
      ]
    },
    {
      "cell_type": "markdown",
      "metadata": {
        "id": "UvPCyrxZZS_N"
      },
      "source": [
        "## 2) Elaborar el modelo matemático"
      ]
    },
    {
      "cell_type": "code",
      "execution_count": 43,
      "metadata": {
        "id": "F2HhiBvhZS_N"
      },
      "outputs": [],
      "source": [
        "# Creacion de variables Theano para la función o ecuación\n",
        "X = T.scalar()\n",
        "Y = T.scalar()"
      ]
    },
    {
      "cell_type": "code",
      "execution_count": 44,
      "metadata": {
        "id": "bVaLFjUIZS_O"
      },
      "outputs": [],
      "source": [
        "# Definición de la función o ecuación\n",
        "def model(X, w_0, w_1):\n",
        "    return X * w_0 + w_1\n",
        "\n",
        "w_0 = theano.shared(np.asarray(0., dtype = theano.config.floatX)) # peso 1\n",
        "w_1 = theano.shared(np.asarray(0., dtype = theano.config.floatX)) # peso 2\n",
        "y = model(X, w_0, w_1) # seteando la función"
      ]
    },
    {
      "cell_type": "code",
      "execution_count": 45,
      "metadata": {
        "id": "Llxj-5rbZS_O"
      },
      "outputs": [],
      "source": [
        "# Seteando variables de interés\n",
        "cost     = T.mean(T.sqr(y - Y)) # determinar el esfuerzo realizado\n",
        "gradient_w_0 = T.grad(cost = cost, wrt = w_0)\n",
        "gradient_w_1 = T.grad(cost = cost, wrt = w_1)\n",
        "updates  = [[w_0, w_0 - gradient_w_0 * 0.01], [w_1, w_1 - gradient_w_1 * 0.01]]"
      ]
    },
    {
      "cell_type": "code",
      "execution_count": 46,
      "metadata": {
        "id": "1lo7HvdGZS_P"
      },
      "outputs": [],
      "source": [
        "# Creacion del modelo de entrenamiento\n",
        "train = theano.function(inputs = [X, Y], outputs = cost, updates = updates)"
      ]
    },
    {
      "cell_type": "markdown",
      "metadata": {
        "id": "q4pYgScWZS_Q"
      },
      "source": [
        "## 3) Obtener los parámetros w_o y w_1"
      ]
    },
    {
      "cell_type": "code",
      "execution_count": 53,
      "metadata": {
        "id": "9Pbil_5_ZS_Q",
        "outputId": "559a5526-7ce4-4535-adb5-e926b5effd6a"
      },
      "outputs": [
        {
          "name": "stdout",
          "output_type": "stream",
          "text": [
            "El valor de w_0 es -0.004851860084106768 y w_1 es 0.7382508183977651 con coste 0.0009556025107939459\n"
          ]
        }
      ],
      "source": [
        "# Prueba del modelo\n",
        "np.random.seed(seed=243) # Setenado semilla para obtener mismo resultados\n",
        "cost = [] # Acumula los esfuerzo, para su graficación\n",
        "for i in range(len(trY)):\n",
        "    for x,y in zip(trX,trY):\n",
        "        trY[i]  = math.log(1 + 0.5 * abs(trX[i])) + trX[i] / 3 + np.random.randn() * 0.033\n",
        "        cost_i=train(x,trY[i])\n",
        "    cost.append(cost_i)  # Guardamos los esfuerzos en cada pasada\n",
        "\n",
        "# Obteniendo los valores de w_o y w_1 optimos\n",
        "print('El valor de w_0 es', w_0.get_value(),\n",
        "            'y w_1 es', w_1.get_value(), 'con coste', cost_i)"
      ]
    },
    {
      "cell_type": "markdown",
      "metadata": {
        "id": "tGR9-ixwZS_U"
      },
      "source": [
        "## 4) Gráficas del conjunto datos y coste de aprendizaje "
      ]
    },
    {
      "cell_type": "code",
      "execution_count": 51,
      "metadata": {
        "id": "mmuy_vZ4ZS_U",
        "outputId": "a3013547-ef0e-459d-cb74-b96a6b3fb1dc"
      },
      "outputs": [
        {
          "data": {
            "image/png": "[encoded data removed]",
            "text/plain": [
              "<Figure size 432x288 with 1 Axes>"
            ]
          },
          "metadata": {
            "needs_background": "light"
          },
          "output_type": "display_data"
        }
      ],
      "source": [
        "# Gráfica del modelo\n",
        "plt.plot(trX, trY, 'g.')\n",
        "plt.show()"
      ]
    },
    {
      "cell_type": "code",
      "execution_count": 54,
      "metadata": {
        "id": "_YJeeI46ZS_V",
        "outputId": "9db5b49a-25da-4ed7-b057-3f1436fce2ff"
      },
      "outputs": [
        {
          "data": {
            "text/plain": [
              "[<matplotlib.lines.Line2D at 0x7f4dffb76e20>]"
            ]
          },
          "execution_count": 54,
          "metadata": {},
          "output_type": "execute_result"
        },
        {
          "data": {
            "image/png": "[encoded data removed]",
            "text/plain": [
              "<Figure size 432x288 with 1 Axes>"
            ]
          },
          "metadata": {
            "needs_background": "light"
          },
          "output_type": "display_data"
        }
      ],
      "source": [
        "# Función de esfuerzo en función del número de iteraciones\n",
        "plt.plot(cost)"
      ]
    },
    {
      "cell_type": "markdown",
      "metadata": {
        "id": "778GsNG-ZS_W"
      },
      "source": [
        "## 5) Conclusiones"
      ]
    },
    {
      "cell_type": "markdown",
      "metadata": {
        "id": "ngY1kYU2ZS_W"
      },
      "source": [
        "* En el inicio de la creación de las variables **trX** y **trY**, se las define como lineales, dónde posteriormente en la creaciónn de la predicción se recalcula **trY**, considerando una constante aleatoria.\n",
        "* En la representación  del modelo, los datos randómicos evidencian la generación de ruido, dificultando un óptimo modelo, como se observa en la función de esfuerzo.\n",
        "* La función de esfuerzo no consigue una estabilidad del modelo debido a la constante aleatoria, lo que que implica que el modelo tienda a variar el cálculo de **w_0** y **w_1**.\n"
      ]
    }
  ],
  "metadata": {
    "colab": {
      "collapsed_sections": [],
      "name": "finalProject-M3-Ej2.ipynb",
      "provenance": []
    },
    "interpreter": {
      "hash": "37212f679c91bfb6182d53c78b4449ba4dc9bf102a651fbc7f4e94f5f3af6aa5"
    },
    "kernelspec": {
      "display_name": "Python 3.8.10 64-bit ('venv-new': venv)",
      "name": "python3"
    },
    "language_info": {
      "codemirror_mode": {
        "name": "ipython",
        "version": 3
      },
      "file_extension": ".py",
      "mimetype": "text/x-python",
      "name": "python",
      "nbconvert_exporter": "python",
      "pygments_lexer": "ipython3",
      "version": "3.8.10"
    },
    "orig_nbformat": 4
  },
  "nbformat": 4,
  "nbformat_minor": 0
}
