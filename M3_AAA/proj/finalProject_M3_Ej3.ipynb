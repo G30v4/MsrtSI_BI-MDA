{
  "cells": [
    {
      "cell_type": "markdown",
      "metadata": {
        "id": "FEm_62xuljBc"
      },
      "source": [
        "<center><h1><strong>FINAL PROJECT - Ex3</strong></h1></center>\n",
        "\n",
        "\n",
        "* __authors__ = [@diegofrencho](https://ec.linkedin.com/in/diegonoguerav) - [@g30v4](https://github.com/g30v4)\n",
        "* __date__ = \"03/07/2021\"\n",
        "* __version__ = \"1.0.0\"\n",
        "* __license__ = \"GPL\"\n",
        "* __title__ = \"Aprendizaje Automático Aplicado\" \n",
        "\n",
        "---\n",
        "## Objetivo :\n",
        "* Aplicar la metodología CRISP-DM, para aplicar correctamente el modelamiento no supervisado y realizar un análisis a detalle que facilite la conclusión del ejercicio práctico.\n"
      ]
    },
    {
      "cell_type": "markdown",
      "metadata": {
        "id": "42U4QemHl-o5"
      },
      "source": [
        "## **Ejercicio #3**\n",
        "\n",
        "En el archivo [crime_data.csv](https://raw.githubusercontent.com/G30v4/MsrtSI_BI-MDA/main/M3_AAA/proj/crime_data.csv) se encuentra el número de crímenes por cada 100.000 habitantes en cada uno de los estados de Estados Unidos, así como el porcentaje de la población que es urbana. Los crímenes se han agrupado en: asalto, asesinato y violación.\n",
        "\n",
        "Segmenta este conjunto de datos utilizando k-means y obtén los centroides de cada clúster y el listado de los estados en cada uno de los clústeres. Para ello, se ha de encontrar el número óptimo de clúster en el que se divide el conjunto de datos.\n",
        "\n",
        "### Objetivos Específicos\n",
        "* Determinar el número óptimo de clústeres\n",
        "* Obtener los centroides de cada clúster\n",
        "* Presentar el listado de los estados en cada uno de los clústeres\n",
        "\n",
        "### Pasos a Realizar\n",
        "* 1) Carga de Datos (crime_data.csv)\n",
        "* 2) Exploración y Selección de los datos\n",
        "* 3) Preparación de Datos\n",
        "* 4) Modelamiento\n",
        "* 5) Evaluacion de Modelo\n",
        "* 6) Conclusiones y Observaciones"
      ]
    },
    {
      "cell_type": "markdown",
      "metadata": {
        "id": "ibWDHwkgqnMz"
      },
      "source": [
        "## 0) Requisitos Previos"
      ]
    },
    {
      "cell_type": "code",
      "execution_count": 95,
      "metadata": {
        "colab": {
          "base_uri": "https://localhost:8080/"
        },
        "id": "tpEwGgTGnGrq",
        "outputId": "25e6b537-6ef2-446a-8381-3fb0ea7eb910"
      },
      "outputs": [
        {
          "name": "stdout",
          "output_type": "stream",
          "text": [
            "Requirement already satisfied: pandas in /usr/local/lib/python3.7/dist-packages (1.1.5)\n",
            "Requirement already satisfied: scikit-learn in /usr/local/lib/python3.7/dist-packages (0.22.2.post1)\n",
            "Requirement already satisfied: python-dateutil>=2.7.3 in /usr/local/lib/python3.7/dist-packages (from pandas) (2.8.1)\n",
            "Requirement already satisfied: pytz>=2017.2 in /usr/local/lib/python3.7/dist-packages (from pandas) (2018.9)\n",
            "Requirement already satisfied: numpy>=1.15.4 in /usr/local/lib/python3.7/dist-packages (from pandas) (1.19.5)\n",
            "Requirement already satisfied: scipy>=0.17.0 in /usr/local/lib/python3.7/dist-packages (from scikit-learn) (1.4.1)\n",
            "Requirement already satisfied: joblib>=0.11 in /usr/local/lib/python3.7/dist-packages (from scikit-learn) (1.0.1)\n",
            "Requirement already satisfied: six>=1.5 in /usr/local/lib/python3.7/dist-packages (from python-dateutil>=2.7.3->pandas) (1.15.0)\n"
          ]
        }
      ],
      "source": [
        "# Instalación de las librerias o dependencias necesarias\n",
        "!pip install pandas scikit-learn"
      ]
    },
    {
      "cell_type": "code",
      "execution_count": 119,
      "metadata": {
        "id": "Lrh2qy3onBPj"
      },
      "outputs": [],
      "source": [
        "# Importar librerias\n",
        "import numpy as np\n",
        "import pandas as pd # Libreria para analitica de datos\n",
        "import matplotlib.pyplot as plt\n",
        "import seaborn as sns # Para graficación\n",
        "from sklearn.cluster import KMeans # Para el modelamiento\n",
        "from sklearn.metrics import silhouette_score\n",
        "from scipy.spatial.distance import cdist # Para calculo de distancias\n",
        "\n",
        "import warnings\n",
        "warnings.filterwarnings('ignore')"
      ]
    },
    {
      "cell_type": "markdown",
      "metadata": {
        "id": "YqNo-QAH1rZC"
      },
      "source": [
        "## 1) Carga de Datos (autos.csv)"
      ]
    },
    {
      "cell_type": "code",
      "execution_count": 201,
      "metadata": {
        "id": "N5rlbzBGpPhL"
      },
      "outputs": [],
      "source": [
        "# Setear las fuentes de datos\n",
        "# url = 'crime_data.csv'\n",
        "url = 'https://raw.githubusercontent.com/G30v4/MsrtSI_BI-MDA/main/M3_AAA/proj/crime_data.csv'"
      ]
    },
    {
      "cell_type": "code",
      "execution_count": 202,
      "metadata": {
        "colab": {
          "base_uri": "https://localhost:8080/",
          "height": 204
        },
        "id": "wmnoEk_cgOBD",
        "outputId": "9a540a10-6adf-4e4c-bbc9-ca201c5c948c"
      },
      "outputs": [
        {
          "data": {
            "text/html": [
              "<div>\n",
              "<style scoped>\n",
              "    .dataframe tbody tr th:only-of-type {\n",
              "        vertical-align: middle;\n",
              "    }\n",
              "\n",
              "    .dataframe tbody tr th {\n",
              "        vertical-align: top;\n",
              "    }\n",
              "\n",
              "    .dataframe thead th {\n",
              "        text-align: right;\n",
              "    }\n",
              "</style>\n",
              "<table border=\"1\" class=\"dataframe\">\n",
              "  <thead>\n",
              "    <tr style=\"text-align: right;\">\n",
              "      <th></th>\n",
              "      <th>State</th>\n",
              "      <th>Murder</th>\n",
              "      <th>Assault</th>\n",
              "      <th>UrbanPop</th>\n",
              "      <th>Rape</th>\n",
              "    </tr>\n",
              "  </thead>\n",
              "  <tbody>\n",
              "    <tr>\n",
              "      <th>0</th>\n",
              "      <td>Alabama</td>\n",
              "      <td>13.2</td>\n",
              "      <td>236</td>\n",
              "      <td>58</td>\n",
              "      <td>21.2</td>\n",
              "    </tr>\n",
              "    <tr>\n",
              "      <th>1</th>\n",
              "      <td>Alaska</td>\n",
              "      <td>10.0</td>\n",
              "      <td>263</td>\n",
              "      <td>48</td>\n",
              "      <td>44.5</td>\n",
              "    </tr>\n",
              "    <tr>\n",
              "      <th>2</th>\n",
              "      <td>Arizona</td>\n",
              "      <td>8.1</td>\n",
              "      <td>294</td>\n",
              "      <td>80</td>\n",
              "      <td>31.0</td>\n",
              "    </tr>\n",
              "    <tr>\n",
              "      <th>3</th>\n",
              "      <td>Arkansas</td>\n",
              "      <td>8.8</td>\n",
              "      <td>190</td>\n",
              "      <td>50</td>\n",
              "      <td>19.5</td>\n",
              "    </tr>\n",
              "    <tr>\n",
              "      <th>4</th>\n",
              "      <td>California</td>\n",
              "      <td>9.0</td>\n",
              "      <td>276</td>\n",
              "      <td>91</td>\n",
              "      <td>40.6</td>\n",
              "    </tr>\n",
              "  </tbody>\n",
              "</table>\n",
              "</div>"
            ],
            "text/plain": [
              "        State  Murder  Assault  UrbanPop  Rape\n",
              "0     Alabama    13.2      236        58  21.2\n",
              "1      Alaska    10.0      263        48  44.5\n",
              "2     Arizona     8.1      294        80  31.0\n",
              "3    Arkansas     8.8      190        50  19.5\n",
              "4  California     9.0      276        91  40.6"
            ]
          },
          "execution_count": 202,
          "metadata": {
            "tags": []
          },
          "output_type": "execute_result"
        }
      ],
      "source": [
        "# Carga de datos\n",
        "data = pd.read_csv(url) # Recupera los datos en formato csv a tipo dataframe (Estructura de datos bidimensional) \n",
        "data.head()"
      ]
    },
    {
      "cell_type": "code",
      "execution_count": 203,
      "metadata": {
        "colab": {
          "base_uri": "https://localhost:8080/"
        },
        "id": "pCOtEsW7s89W",
        "outputId": "0a15cba5-c061-405a-dcc6-5d02b7099f4d"
      },
      "outputs": [
        {
          "name": "stdout",
          "output_type": "stream",
          "text": [
            "Rows: 50 , Cols : 5\n"
          ]
        }
      ],
      "source": [
        "# Verificamos la dimension del dataframe\n",
        "print(f\"Rows: {len(data.axes[0])} , Cols : {len(data.axes[1])}\")"
      ]
    },
    {
      "cell_type": "markdown",
      "metadata": {
        "id": "bncmIQW6whfq"
      },
      "source": [
        "\n",
        "\n",
        "\n",
        "**Explicación:** Se trabajará con un conjunto de 50 registros y 5 variables. \n",
        "\n",
        "\n"
      ]
    },
    {
      "cell_type": "markdown",
      "metadata": {
        "id": "5fPa0hJ_6K6n"
      },
      "source": [
        "## 2) Exploración y Selección de los datos"
      ]
    },
    {
      "cell_type": "code",
      "execution_count": 204,
      "metadata": {
        "colab": {
          "base_uri": "https://localhost:8080/"
        },
        "id": "k5XFF-fnznqV",
        "outputId": "b879640e-8c0b-4e53-9367-f1c7452f9085"
      },
      "outputs": [
        {
          "name": "stdout",
          "output_type": "stream",
          "text": [
            "<class 'pandas.core.frame.DataFrame'>\n",
            "RangeIndex: 50 entries, 0 to 49\n",
            "Data columns (total 5 columns):\n",
            " #   Column    Non-Null Count  Dtype  \n",
            "---  ------    --------------  -----  \n",
            " 0   State     50 non-null     object \n",
            " 1   Murder    50 non-null     float64\n",
            " 2   Assault   50 non-null     int64  \n",
            " 3   UrbanPop  50 non-null     int64  \n",
            " 4   Rape      50 non-null     float64\n",
            "dtypes: float64(2), int64(2), object(1)\n",
            "memory usage: 2.1+ KB\n"
          ]
        }
      ],
      "source": [
        "# Inspeccionamos el tipo de dato de cada variable\n",
        "data.info()"
      ]
    },
    {
      "cell_type": "code",
      "execution_count": 205,
      "metadata": {
        "colab": {
          "base_uri": "https://localhost:8080/",
          "height": 297
        },
        "id": "iJhP8mzvxYo8",
        "outputId": "b574183d-94ba-41dd-b170-4b802c2a0cca"
      },
      "outputs": [
        {
          "data": {
            "text/html": [
              "<div>\n",
              "<style scoped>\n",
              "    .dataframe tbody tr th:only-of-type {\n",
              "        vertical-align: middle;\n",
              "    }\n",
              "\n",
              "    .dataframe tbody tr th {\n",
              "        vertical-align: top;\n",
              "    }\n",
              "\n",
              "    .dataframe thead th {\n",
              "        text-align: right;\n",
              "    }\n",
              "</style>\n",
              "<table border=\"1\" class=\"dataframe\">\n",
              "  <thead>\n",
              "    <tr style=\"text-align: right;\">\n",
              "      <th></th>\n",
              "      <th>Murder</th>\n",
              "      <th>Assault</th>\n",
              "      <th>UrbanPop</th>\n",
              "      <th>Rape</th>\n",
              "    </tr>\n",
              "  </thead>\n",
              "  <tbody>\n",
              "    <tr>\n",
              "      <th>count</th>\n",
              "      <td>50.00000</td>\n",
              "      <td>50.000000</td>\n",
              "      <td>50.000000</td>\n",
              "      <td>50.000000</td>\n",
              "    </tr>\n",
              "    <tr>\n",
              "      <th>mean</th>\n",
              "      <td>7.78800</td>\n",
              "      <td>170.760000</td>\n",
              "      <td>65.540000</td>\n",
              "      <td>21.232000</td>\n",
              "    </tr>\n",
              "    <tr>\n",
              "      <th>std</th>\n",
              "      <td>4.35551</td>\n",
              "      <td>83.337661</td>\n",
              "      <td>14.474763</td>\n",
              "      <td>9.366385</td>\n",
              "    </tr>\n",
              "    <tr>\n",
              "      <th>min</th>\n",
              "      <td>0.80000</td>\n",
              "      <td>45.000000</td>\n",
              "      <td>32.000000</td>\n",
              "      <td>7.300000</td>\n",
              "    </tr>\n",
              "    <tr>\n",
              "      <th>25%</th>\n",
              "      <td>4.07500</td>\n",
              "      <td>109.000000</td>\n",
              "      <td>54.500000</td>\n",
              "      <td>15.075000</td>\n",
              "    </tr>\n",
              "    <tr>\n",
              "      <th>50%</th>\n",
              "      <td>7.25000</td>\n",
              "      <td>159.000000</td>\n",
              "      <td>66.000000</td>\n",
              "      <td>20.100000</td>\n",
              "    </tr>\n",
              "    <tr>\n",
              "      <th>75%</th>\n",
              "      <td>11.25000</td>\n",
              "      <td>249.000000</td>\n",
              "      <td>77.750000</td>\n",
              "      <td>26.175000</td>\n",
              "    </tr>\n",
              "    <tr>\n",
              "      <th>max</th>\n",
              "      <td>17.40000</td>\n",
              "      <td>337.000000</td>\n",
              "      <td>91.000000</td>\n",
              "      <td>46.000000</td>\n",
              "    </tr>\n",
              "  </tbody>\n",
              "</table>\n",
              "</div>"
            ],
            "text/plain": [
              "         Murder     Assault   UrbanPop       Rape\n",
              "count  50.00000   50.000000  50.000000  50.000000\n",
              "mean    7.78800  170.760000  65.540000  21.232000\n",
              "std     4.35551   83.337661  14.474763   9.366385\n",
              "min     0.80000   45.000000  32.000000   7.300000\n",
              "25%     4.07500  109.000000  54.500000  15.075000\n",
              "50%     7.25000  159.000000  66.000000  20.100000\n",
              "75%    11.25000  249.000000  77.750000  26.175000\n",
              "max    17.40000  337.000000  91.000000  46.000000"
            ]
          },
          "execution_count": 205,
          "metadata": {
            "tags": []
          },
          "output_type": "execute_result"
        }
      ],
      "source": [
        "# Realizamos una descripción de los estadísticos básicos para comprender la data\n",
        "data.describe()"
      ]
    },
    {
      "cell_type": "code",
      "execution_count": 206,
      "metadata": {
        "colab": {
          "base_uri": "https://localhost:8080/",
          "height": 204
        },
        "id": "52e7se6NsSDw",
        "outputId": "e355a2e0-b4a5-48d9-ca70-7070f67d9164"
      },
      "outputs": [
        {
          "data": {
            "text/html": [
              "<div>\n",
              "<style scoped>\n",
              "    .dataframe tbody tr th:only-of-type {\n",
              "        vertical-align: middle;\n",
              "    }\n",
              "\n",
              "    .dataframe tbody tr th {\n",
              "        vertical-align: top;\n",
              "    }\n",
              "\n",
              "    .dataframe thead th {\n",
              "        text-align: right;\n",
              "    }\n",
              "</style>\n",
              "<table border=\"1\" class=\"dataframe\">\n",
              "  <thead>\n",
              "    <tr style=\"text-align: right;\">\n",
              "      <th></th>\n",
              "      <th>Murder</th>\n",
              "      <th>Assault</th>\n",
              "      <th>UrbanPop</th>\n",
              "      <th>Rape</th>\n",
              "    </tr>\n",
              "  </thead>\n",
              "  <tbody>\n",
              "    <tr>\n",
              "      <th>0</th>\n",
              "      <td>13.2</td>\n",
              "      <td>236</td>\n",
              "      <td>58</td>\n",
              "      <td>21.2</td>\n",
              "    </tr>\n",
              "    <tr>\n",
              "      <th>1</th>\n",
              "      <td>10.0</td>\n",
              "      <td>263</td>\n",
              "      <td>48</td>\n",
              "      <td>44.5</td>\n",
              "    </tr>\n",
              "    <tr>\n",
              "      <th>2</th>\n",
              "      <td>8.1</td>\n",
              "      <td>294</td>\n",
              "      <td>80</td>\n",
              "      <td>31.0</td>\n",
              "    </tr>\n",
              "    <tr>\n",
              "      <th>3</th>\n",
              "      <td>8.8</td>\n",
              "      <td>190</td>\n",
              "      <td>50</td>\n",
              "      <td>19.5</td>\n",
              "    </tr>\n",
              "    <tr>\n",
              "      <th>4</th>\n",
              "      <td>9.0</td>\n",
              "      <td>276</td>\n",
              "      <td>91</td>\n",
              "      <td>40.6</td>\n",
              "    </tr>\n",
              "  </tbody>\n",
              "</table>\n",
              "</div>"
            ],
            "text/plain": [
              "   Murder  Assault  UrbanPop  Rape\n",
              "0    13.2      236        58  21.2\n",
              "1    10.0      263        48  44.5\n",
              "2     8.1      294        80  31.0\n",
              "3     8.8      190        50  19.5\n",
              "4     9.0      276        91  40.6"
            ]
          },
          "execution_count": 206,
          "metadata": {
            "tags": []
          },
          "output_type": "execute_result"
        }
      ],
      "source": [
        "# Selección de las variables para el modelo\n",
        "col_names = list(data.columns)\n",
        "col_names.remove('State') # Eliminamos variable no relevante\n",
        "\n",
        "sel_data = data[col_names] # Creamos un nuevo dataframe con las variables de interes\n",
        "sel_data.head()"
      ]
    },
    {
      "cell_type": "code",
      "execution_count": 207,
      "metadata": {
        "colab": {
          "base_uri": "https://localhost:8080/",
          "height": 124
        },
        "id": "VNQmCHRez5Ko",
        "outputId": "5cffcae6-7707-4baf-c25b-98fa543f95d7"
      },
      "outputs": [
        {
          "data": {
            "text/html": [
              "<style  type=\"text/css\" >\n",
              "#T_479efa7e_dcef_11eb_a424_0242ac1c0002row0_col0,#T_479efa7e_dcef_11eb_a424_0242ac1c0002row1_col1,#T_479efa7e_dcef_11eb_a424_0242ac1c0002row2_col2,#T_479efa7e_dcef_11eb_a424_0242ac1c0002row3_col3{\n",
              "            background-color:  #b40426;\n",
              "            color:  #f1f1f1;\n",
              "        }#T_479efa7e_dcef_11eb_a424_0242ac1c0002row0_col1{\n",
              "            background-color:  #f5a081;\n",
              "            color:  #000000;\n",
              "        }#T_479efa7e_dcef_11eb_a424_0242ac1c0002row0_col2,#T_479efa7e_dcef_11eb_a424_0242ac1c0002row2_col0,#T_479efa7e_dcef_11eb_a424_0242ac1c0002row2_col1,#T_479efa7e_dcef_11eb_a424_0242ac1c0002row2_col3{\n",
              "            background-color:  #3b4cc0;\n",
              "            color:  #f1f1f1;\n",
              "        }#T_479efa7e_dcef_11eb_a424_0242ac1c0002row0_col3{\n",
              "            background-color:  #90b2fe;\n",
              "            color:  #000000;\n",
              "        }#T_479efa7e_dcef_11eb_a424_0242ac1c0002row1_col0{\n",
              "            background-color:  #f08a6c;\n",
              "            color:  #000000;\n",
              "        }#T_479efa7e_dcef_11eb_a424_0242ac1c0002row1_col2{\n",
              "            background-color:  #7da0f9;\n",
              "            color:  #000000;\n",
              "        }#T_479efa7e_dcef_11eb_a424_0242ac1c0002row1_col3{\n",
              "            background-color:  #cad8ef;\n",
              "            color:  #000000;\n",
              "        }#T_479efa7e_dcef_11eb_a424_0242ac1c0002row3_col0{\n",
              "            background-color:  #e4d9d2;\n",
              "            color:  #000000;\n",
              "        }#T_479efa7e_dcef_11eb_a424_0242ac1c0002row3_col1{\n",
              "            background-color:  #e9d5cb;\n",
              "            color:  #000000;\n",
              "        }#T_479efa7e_dcef_11eb_a424_0242ac1c0002row3_col2{\n",
              "            background-color:  #b6cefa;\n",
              "            color:  #000000;\n",
              "        }</style><table id=\"T_479efa7e_dcef_11eb_a424_0242ac1c0002\" ><thead>    <tr>        <th class=\"blank level0\" ></th>        <th class=\"col_heading level0 col0\" >Murder</th>        <th class=\"col_heading level0 col1\" >Assault</th>        <th class=\"col_heading level0 col2\" >UrbanPop</th>        <th class=\"col_heading level0 col3\" >Rape</th>    </tr></thead><tbody>\n",
              "                <tr>\n",
              "                        <th id=\"T_479efa7e_dcef_11eb_a424_0242ac1c0002level0_row0\" class=\"row_heading level0 row0\" >Murder</th>\n",
              "                        <td id=\"T_479efa7e_dcef_11eb_a424_0242ac1c0002row0_col0\" class=\"data row0 col0\" >1.00</td>\n",
              "                        <td id=\"T_479efa7e_dcef_11eb_a424_0242ac1c0002row0_col1\" class=\"data row0 col1\" >0.80</td>\n",
              "                        <td id=\"T_479efa7e_dcef_11eb_a424_0242ac1c0002row0_col2\" class=\"data row0 col2\" >0.07</td>\n",
              "                        <td id=\"T_479efa7e_dcef_11eb_a424_0242ac1c0002row0_col3\" class=\"data row0 col3\" >0.56</td>\n",
              "            </tr>\n",
              "            <tr>\n",
              "                        <th id=\"T_479efa7e_dcef_11eb_a424_0242ac1c0002level0_row1\" class=\"row_heading level0 row1\" >Assault</th>\n",
              "                        <td id=\"T_479efa7e_dcef_11eb_a424_0242ac1c0002row1_col0\" class=\"data row1 col0\" >0.80</td>\n",
              "                        <td id=\"T_479efa7e_dcef_11eb_a424_0242ac1c0002row1_col1\" class=\"data row1 col1\" >1.00</td>\n",
              "                        <td id=\"T_479efa7e_dcef_11eb_a424_0242ac1c0002row1_col2\" class=\"data row1 col2\" >0.26</td>\n",
              "                        <td id=\"T_479efa7e_dcef_11eb_a424_0242ac1c0002row1_col3\" class=\"data row1 col3\" >0.67</td>\n",
              "            </tr>\n",
              "            <tr>\n",
              "                        <th id=\"T_479efa7e_dcef_11eb_a424_0242ac1c0002level0_row2\" class=\"row_heading level0 row2\" >UrbanPop</th>\n",
              "                        <td id=\"T_479efa7e_dcef_11eb_a424_0242ac1c0002row2_col0\" class=\"data row2 col0\" >0.07</td>\n",
              "                        <td id=\"T_479efa7e_dcef_11eb_a424_0242ac1c0002row2_col1\" class=\"data row2 col1\" >0.26</td>\n",
              "                        <td id=\"T_479efa7e_dcef_11eb_a424_0242ac1c0002row2_col2\" class=\"data row2 col2\" >1.00</td>\n",
              "                        <td id=\"T_479efa7e_dcef_11eb_a424_0242ac1c0002row2_col3\" class=\"data row2 col3\" >0.41</td>\n",
              "            </tr>\n",
              "            <tr>\n",
              "                        <th id=\"T_479efa7e_dcef_11eb_a424_0242ac1c0002level0_row3\" class=\"row_heading level0 row3\" >Rape</th>\n",
              "                        <td id=\"T_479efa7e_dcef_11eb_a424_0242ac1c0002row3_col0\" class=\"data row3 col0\" >0.56</td>\n",
              "                        <td id=\"T_479efa7e_dcef_11eb_a424_0242ac1c0002row3_col1\" class=\"data row3 col1\" >0.67</td>\n",
              "                        <td id=\"T_479efa7e_dcef_11eb_a424_0242ac1c0002row3_col2\" class=\"data row3 col2\" >0.41</td>\n",
              "                        <td id=\"T_479efa7e_dcef_11eb_a424_0242ac1c0002row3_col3\" class=\"data row3 col3\" >1.00</td>\n",
              "            </tr>\n",
              "    </tbody></table>"
            ],
            "text/plain": [
              "<pandas.io.formats.style.Styler at 0x7f87342364d0>"
            ]
          },
          "execution_count": 207,
          "metadata": {
            "tags": []
          },
          "output_type": "execute_result"
        }
      ],
      "source": [
        "# Genera la matriz de correlación\n",
        "sel_data.corr().style.background_gradient(cmap='coolwarm').set_precision(2)"
      ]
    },
    {
      "cell_type": "markdown",
      "metadata": {
        "id": "7xax1qv10GE9"
      },
      "source": [
        "\n",
        "\n",
        "\n",
        "**Explicación:** Se puede observar una fuerte correlación entre las variables asaltos y muertes, lo que se podria explicar como: \"Por cada asalto es probable que se de una muerte\".\n",
        "\n",
        "\n"
      ]
    },
    {
      "cell_type": "code",
      "execution_count": 208,
      "metadata": {
        "colab": {
          "base_uri": "https://localhost:8080/",
          "height": 785
        },
        "id": "iA0spYMJ022-",
        "outputId": "84f0ebad-44c0-4db8-8900-1e8138348f46"
      },
      "outputs": [
        {
          "data": {
            "text/plain": [
              "<seaborn.axisgrid.PairGrid at 0x7f87321d59d0>"
            ]
          },
          "execution_count": 208,
          "metadata": {
            "tags": []
          },
          "output_type": "execute_result"
        },
        {
          "data": {
            "image/png": "[encoded data removed]",
            "text/plain": [
              "<Figure size 834.875x720 with 20 Axes>"
            ]
          },
          "metadata": {
            "needs_background": "light",
            "tags": []
          },
          "output_type": "display_data"
        }
      ],
      "source": [
        "# Grafica de correlaciones respecto a los Estados\n",
        "sns.pairplot(data,hue=\"State\")"
      ]
    },
    {
      "cell_type": "markdown",
      "metadata": {
        "id": "OZdmcOf3zqWo"
      },
      "source": [
        "## 3) Preparación de Datos"
      ]
    },
    {
      "cell_type": "markdown",
      "metadata": {
        "id": "Kq3veFFH1mPj"
      },
      "source": [
        "### Determinar el número óptimo de clústeres"
      ]
    },
    {
      "cell_type": "code",
      "execution_count": 209,
      "metadata": {
        "colab": {
          "base_uri": "https://localhost:8080/",
          "height": 295
        },
        "id": "u8f1PPNVxKVm",
        "outputId": "3505b599-f946-4e7d-e38a-01727c12402f"
      },
      "outputs": [
        {
          "data": {
            "image/png": "[encoded data removed]",
            "text/plain": [
              "<Figure size 432x288 with 1 Axes>"
            ]
          },
          "metadata": {
            "needs_background": "light",
            "tags": []
          },
          "output_type": "display_data"
        }
      ],
      "source": [
        "## Por método de Codo\n",
        "def plot_dispersion(x, figure_name, max_k = 10, n_init = 10):\n",
        "    inertia = []\n",
        "\n",
        "    for k in range(1, max_k):\n",
        "        kmeans = KMeans(n_clusters = k, n_init = n_init).fit(x)\n",
        "        inertia.append(kmeans.inertia_)\n",
        "\n",
        "    plt.plot(range(1, max_k), inertia, 'bx-')\n",
        "    plt.xlabel('k')\n",
        "    plt.ylabel(u'Dispersión')\n",
        "    plt.title(figure_name)\n",
        "\n",
        "plot_dispersion(sel_data, 'Crímenes')"
      ]
    },
    {
      "cell_type": "code",
      "execution_count": 210,
      "metadata": {
        "colab": {
          "base_uri": "https://localhost:8080/",
          "height": 281
        },
        "id": "K1YUmvLotjQR",
        "outputId": "b744fed6-edc4-4205-c19d-ef6c51d526c8"
      },
      "outputs": [
        {
          "data": {
            "image/png": "[encoded data removed]",
            "text/plain": [
              "<Figure size 432x288 with 1 Axes>"
            ]
          },
          "metadata": {
            "needs_background": "light",
            "tags": []
          },
          "output_type": "display_data"
        }
      ],
      "source": [
        "# Método de la Silhouette\n",
        "def plot_sillhouette(blobs, figure_name, max_k = 10, n_init = 10):\n",
        "    sillhouette_avgs = []\n",
        "    \n",
        "    for k in range(2, max_k):\n",
        "        kmean = KMeans(n_clusters = k, n_init = n_init).fit(blobs)\n",
        "        sillhouette_avgs.append(silhouette_score(blobs, kmean.labels_))\n",
        "        \n",
        "    plt.plot(range(2, max_k), sillhouette_avgs)\n",
        "    plt.title(figure_name)\n",
        "    \n",
        "plot_sillhouette(sel_data, 'Crímenes')"
      ]
    },
    {
      "cell_type": "markdown",
      "metadata": {
        "id": "xKpr1WWU2ea4"
      },
      "source": [
        "**Interpretación**: Aplicando los dos métodos para determinar el número óptimo de clústeres, se determina que con 2 clústeres es suficiente para la creación del modelo, pero se aplicará 3, considerando los resultados del método del codo. "
      ]
    },
    {
      "cell_type": "markdown",
      "metadata": {
        "id": "riii45Mb3nKB"
      },
      "source": [
        "## 4) Modelamiento"
      ]
    },
    {
      "cell_type": "code",
      "execution_count": 211,
      "metadata": {
        "id": "DaP8RxPEwEld"
      },
      "outputs": [],
      "source": [
        "# Creación del modelo con 3 clústeres\n",
        "kmeans = KMeans(n_clusters = 3, n_init = 10).fit(sel_data)"
      ]
    },
    {
      "cell_type": "markdown",
      "metadata": {
        "id": "EhMsqW2H377U"
      },
      "source": [
        "### Obtener los centroides de cada clúster"
      ]
    },
    {
      "cell_type": "code",
      "execution_count": 212,
      "metadata": {
        "colab": {
          "base_uri": "https://localhost:8080/"
        },
        "id": "0THaCErp30Df",
        "outputId": "8f44ed88-b626-4919-c2a1-eaeca1a2061a"
      },
      "outputs": [
        {
          "data": {
            "text/plain": [
              "array([[ 11.8125    , 272.5625    ,  68.3125    ,  28.375     ],\n",
              "       [  4.27      ,  87.55      ,  59.75      ,  14.39      ],\n",
              "       [  8.21428571, 173.28571429,  70.64285714,  22.84285714]])"
            ]
          },
          "execution_count": 212,
          "metadata": {
            "tags": []
          },
          "output_type": "execute_result"
        }
      ],
      "source": [
        "# Obtención de los centroides\n",
        "kmeans.cluster_centers_"
      ]
    },
    {
      "cell_type": "markdown",
      "metadata": {
        "id": "PbByvzfV4CG6"
      },
      "source": [
        "## 5) Evaluacion de Modelo"
      ]
    },
    {
      "cell_type": "code",
      "execution_count": 213,
      "metadata": {
        "colab": {
          "base_uri": "https://localhost:8080/",
          "height": 1000
        },
        "id": "cxELbB1w4nVZ",
        "outputId": "38491fa6-db3c-45f1-93ef-9d38cd5ac3ae"
      },
      "outputs": [
        {
          "data": {
            "text/html": [
              "<div>\n",
              "<style scoped>\n",
              "    .dataframe tbody tr th:only-of-type {\n",
              "        vertical-align: middle;\n",
              "    }\n",
              "\n",
              "    .dataframe tbody tr th {\n",
              "        vertical-align: top;\n",
              "    }\n",
              "\n",
              "    .dataframe thead th {\n",
              "        text-align: right;\n",
              "    }\n",
              "</style>\n",
              "<table border=\"1\" class=\"dataframe\">\n",
              "  <thead>\n",
              "    <tr style=\"text-align: right;\">\n",
              "      <th></th>\n",
              "      <th>State</th>\n",
              "      <th>Murder</th>\n",
              "      <th>Assault</th>\n",
              "      <th>UrbanPop</th>\n",
              "      <th>Rape</th>\n",
              "      <th>predict</th>\n",
              "    </tr>\n",
              "  </thead>\n",
              "  <tbody>\n",
              "    <tr>\n",
              "      <th>0</th>\n",
              "      <td>Alabama</td>\n",
              "      <td>13.2</td>\n",
              "      <td>236</td>\n",
              "      <td>58</td>\n",
              "      <td>21.2</td>\n",
              "      <td>0</td>\n",
              "    </tr>\n",
              "    <tr>\n",
              "      <th>1</th>\n",
              "      <td>Alaska</td>\n",
              "      <td>10.0</td>\n",
              "      <td>263</td>\n",
              "      <td>48</td>\n",
              "      <td>44.5</td>\n",
              "      <td>0</td>\n",
              "    </tr>\n",
              "    <tr>\n",
              "      <th>2</th>\n",
              "      <td>Arizona</td>\n",
              "      <td>8.1</td>\n",
              "      <td>294</td>\n",
              "      <td>80</td>\n",
              "      <td>31.0</td>\n",
              "      <td>0</td>\n",
              "    </tr>\n",
              "    <tr>\n",
              "      <th>3</th>\n",
              "      <td>Arkansas</td>\n",
              "      <td>8.8</td>\n",
              "      <td>190</td>\n",
              "      <td>50</td>\n",
              "      <td>19.5</td>\n",
              "      <td>2</td>\n",
              "    </tr>\n",
              "    <tr>\n",
              "      <th>4</th>\n",
              "      <td>California</td>\n",
              "      <td>9.0</td>\n",
              "      <td>276</td>\n",
              "      <td>91</td>\n",
              "      <td>40.6</td>\n",
              "      <td>0</td>\n",
              "    </tr>\n",
              "    <tr>\n",
              "      <th>5</th>\n",
              "      <td>Colorado</td>\n",
              "      <td>7.9</td>\n",
              "      <td>204</td>\n",
              "      <td>78</td>\n",
              "      <td>38.7</td>\n",
              "      <td>2</td>\n",
              "    </tr>\n",
              "    <tr>\n",
              "      <th>6</th>\n",
              "      <td>Connecticut</td>\n",
              "      <td>3.3</td>\n",
              "      <td>110</td>\n",
              "      <td>77</td>\n",
              "      <td>11.1</td>\n",
              "      <td>1</td>\n",
              "    </tr>\n",
              "    <tr>\n",
              "      <th>7</th>\n",
              "      <td>Delaware</td>\n",
              "      <td>5.9</td>\n",
              "      <td>238</td>\n",
              "      <td>72</td>\n",
              "      <td>15.8</td>\n",
              "      <td>0</td>\n",
              "    </tr>\n",
              "    <tr>\n",
              "      <th>8</th>\n",
              "      <td>Florida</td>\n",
              "      <td>15.4</td>\n",
              "      <td>335</td>\n",
              "      <td>80</td>\n",
              "      <td>31.9</td>\n",
              "      <td>0</td>\n",
              "    </tr>\n",
              "    <tr>\n",
              "      <th>9</th>\n",
              "      <td>Georgia</td>\n",
              "      <td>17.4</td>\n",
              "      <td>211</td>\n",
              "      <td>60</td>\n",
              "      <td>25.8</td>\n",
              "      <td>2</td>\n",
              "    </tr>\n",
              "    <tr>\n",
              "      <th>10</th>\n",
              "      <td>Hawaii</td>\n",
              "      <td>5.3</td>\n",
              "      <td>46</td>\n",
              "      <td>83</td>\n",
              "      <td>20.2</td>\n",
              "      <td>1</td>\n",
              "    </tr>\n",
              "    <tr>\n",
              "      <th>11</th>\n",
              "      <td>Idaho</td>\n",
              "      <td>2.6</td>\n",
              "      <td>120</td>\n",
              "      <td>54</td>\n",
              "      <td>14.2</td>\n",
              "      <td>1</td>\n",
              "    </tr>\n",
              "    <tr>\n",
              "      <th>12</th>\n",
              "      <td>Illinois</td>\n",
              "      <td>10.4</td>\n",
              "      <td>249</td>\n",
              "      <td>83</td>\n",
              "      <td>24.0</td>\n",
              "      <td>0</td>\n",
              "    </tr>\n",
              "    <tr>\n",
              "      <th>13</th>\n",
              "      <td>Indiana</td>\n",
              "      <td>7.2</td>\n",
              "      <td>113</td>\n",
              "      <td>65</td>\n",
              "      <td>21.0</td>\n",
              "      <td>1</td>\n",
              "    </tr>\n",
              "    <tr>\n",
              "      <th>14</th>\n",
              "      <td>Iowa</td>\n",
              "      <td>2.2</td>\n",
              "      <td>56</td>\n",
              "      <td>57</td>\n",
              "      <td>11.3</td>\n",
              "      <td>1</td>\n",
              "    </tr>\n",
              "    <tr>\n",
              "      <th>15</th>\n",
              "      <td>Kansas</td>\n",
              "      <td>6.0</td>\n",
              "      <td>115</td>\n",
              "      <td>66</td>\n",
              "      <td>18.0</td>\n",
              "      <td>1</td>\n",
              "    </tr>\n",
              "    <tr>\n",
              "      <th>16</th>\n",
              "      <td>Kentucky</td>\n",
              "      <td>9.7</td>\n",
              "      <td>109</td>\n",
              "      <td>52</td>\n",
              "      <td>16.3</td>\n",
              "      <td>1</td>\n",
              "    </tr>\n",
              "    <tr>\n",
              "      <th>17</th>\n",
              "      <td>Louisiana</td>\n",
              "      <td>15.4</td>\n",
              "      <td>249</td>\n",
              "      <td>66</td>\n",
              "      <td>22.2</td>\n",
              "      <td>0</td>\n",
              "    </tr>\n",
              "    <tr>\n",
              "      <th>18</th>\n",
              "      <td>Maine</td>\n",
              "      <td>2.1</td>\n",
              "      <td>83</td>\n",
              "      <td>51</td>\n",
              "      <td>7.8</td>\n",
              "      <td>1</td>\n",
              "    </tr>\n",
              "    <tr>\n",
              "      <th>19</th>\n",
              "      <td>Maryland</td>\n",
              "      <td>11.3</td>\n",
              "      <td>300</td>\n",
              "      <td>67</td>\n",
              "      <td>27.8</td>\n",
              "      <td>0</td>\n",
              "    </tr>\n",
              "    <tr>\n",
              "      <th>20</th>\n",
              "      <td>Massachusetts</td>\n",
              "      <td>4.4</td>\n",
              "      <td>149</td>\n",
              "      <td>85</td>\n",
              "      <td>16.3</td>\n",
              "      <td>2</td>\n",
              "    </tr>\n",
              "    <tr>\n",
              "      <th>21</th>\n",
              "      <td>Michigan</td>\n",
              "      <td>12.1</td>\n",
              "      <td>255</td>\n",
              "      <td>74</td>\n",
              "      <td>35.1</td>\n",
              "      <td>0</td>\n",
              "    </tr>\n",
              "    <tr>\n",
              "      <th>22</th>\n",
              "      <td>Minnesota</td>\n",
              "      <td>2.7</td>\n",
              "      <td>72</td>\n",
              "      <td>66</td>\n",
              "      <td>14.9</td>\n",
              "      <td>1</td>\n",
              "    </tr>\n",
              "    <tr>\n",
              "      <th>23</th>\n",
              "      <td>Mississippi</td>\n",
              "      <td>16.1</td>\n",
              "      <td>259</td>\n",
              "      <td>44</td>\n",
              "      <td>17.1</td>\n",
              "      <td>0</td>\n",
              "    </tr>\n",
              "    <tr>\n",
              "      <th>24</th>\n",
              "      <td>Missouri</td>\n",
              "      <td>9.0</td>\n",
              "      <td>178</td>\n",
              "      <td>70</td>\n",
              "      <td>28.2</td>\n",
              "      <td>2</td>\n",
              "    </tr>\n",
              "    <tr>\n",
              "      <th>25</th>\n",
              "      <td>Montana</td>\n",
              "      <td>6.0</td>\n",
              "      <td>109</td>\n",
              "      <td>53</td>\n",
              "      <td>16.4</td>\n",
              "      <td>1</td>\n",
              "    </tr>\n",
              "    <tr>\n",
              "      <th>26</th>\n",
              "      <td>Nebraska</td>\n",
              "      <td>4.3</td>\n",
              "      <td>102</td>\n",
              "      <td>62</td>\n",
              "      <td>16.5</td>\n",
              "      <td>1</td>\n",
              "    </tr>\n",
              "    <tr>\n",
              "      <th>27</th>\n",
              "      <td>Nevada</td>\n",
              "      <td>12.2</td>\n",
              "      <td>252</td>\n",
              "      <td>81</td>\n",
              "      <td>46.0</td>\n",
              "      <td>0</td>\n",
              "    </tr>\n",
              "    <tr>\n",
              "      <th>28</th>\n",
              "      <td>New Hampshire</td>\n",
              "      <td>2.1</td>\n",
              "      <td>57</td>\n",
              "      <td>56</td>\n",
              "      <td>9.5</td>\n",
              "      <td>1</td>\n",
              "    </tr>\n",
              "    <tr>\n",
              "      <th>29</th>\n",
              "      <td>New Jersey</td>\n",
              "      <td>7.4</td>\n",
              "      <td>159</td>\n",
              "      <td>89</td>\n",
              "      <td>18.8</td>\n",
              "      <td>2</td>\n",
              "    </tr>\n",
              "    <tr>\n",
              "      <th>30</th>\n",
              "      <td>New Mexico</td>\n",
              "      <td>11.4</td>\n",
              "      <td>285</td>\n",
              "      <td>70</td>\n",
              "      <td>32.1</td>\n",
              "      <td>0</td>\n",
              "    </tr>\n",
              "    <tr>\n",
              "      <th>31</th>\n",
              "      <td>New York</td>\n",
              "      <td>11.1</td>\n",
              "      <td>254</td>\n",
              "      <td>86</td>\n",
              "      <td>26.1</td>\n",
              "      <td>0</td>\n",
              "    </tr>\n",
              "    <tr>\n",
              "      <th>32</th>\n",
              "      <td>North Carolina</td>\n",
              "      <td>13.0</td>\n",
              "      <td>337</td>\n",
              "      <td>45</td>\n",
              "      <td>16.1</td>\n",
              "      <td>0</td>\n",
              "    </tr>\n",
              "    <tr>\n",
              "      <th>33</th>\n",
              "      <td>North Dakota</td>\n",
              "      <td>0.8</td>\n",
              "      <td>45</td>\n",
              "      <td>44</td>\n",
              "      <td>7.3</td>\n",
              "      <td>1</td>\n",
              "    </tr>\n",
              "    <tr>\n",
              "      <th>34</th>\n",
              "      <td>Ohio</td>\n",
              "      <td>7.3</td>\n",
              "      <td>120</td>\n",
              "      <td>75</td>\n",
              "      <td>21.4</td>\n",
              "      <td>1</td>\n",
              "    </tr>\n",
              "    <tr>\n",
              "      <th>35</th>\n",
              "      <td>Oklahoma</td>\n",
              "      <td>6.6</td>\n",
              "      <td>151</td>\n",
              "      <td>68</td>\n",
              "      <td>20.0</td>\n",
              "      <td>2</td>\n",
              "    </tr>\n",
              "    <tr>\n",
              "      <th>36</th>\n",
              "      <td>Oregon</td>\n",
              "      <td>4.9</td>\n",
              "      <td>159</td>\n",
              "      <td>67</td>\n",
              "      <td>29.3</td>\n",
              "      <td>2</td>\n",
              "    </tr>\n",
              "    <tr>\n",
              "      <th>37</th>\n",
              "      <td>Pennsylvania</td>\n",
              "      <td>6.3</td>\n",
              "      <td>106</td>\n",
              "      <td>72</td>\n",
              "      <td>14.9</td>\n",
              "      <td>1</td>\n",
              "    </tr>\n",
              "    <tr>\n",
              "      <th>38</th>\n",
              "      <td>Rhode Island</td>\n",
              "      <td>3.4</td>\n",
              "      <td>174</td>\n",
              "      <td>87</td>\n",
              "      <td>8.3</td>\n",
              "      <td>2</td>\n",
              "    </tr>\n",
              "    <tr>\n",
              "      <th>39</th>\n",
              "      <td>South Carolina</td>\n",
              "      <td>14.4</td>\n",
              "      <td>279</td>\n",
              "      <td>48</td>\n",
              "      <td>22.5</td>\n",
              "      <td>0</td>\n",
              "    </tr>\n",
              "    <tr>\n",
              "      <th>40</th>\n",
              "      <td>South Dakota</td>\n",
              "      <td>3.8</td>\n",
              "      <td>86</td>\n",
              "      <td>45</td>\n",
              "      <td>12.8</td>\n",
              "      <td>1</td>\n",
              "    </tr>\n",
              "    <tr>\n",
              "      <th>41</th>\n",
              "      <td>Tennessee</td>\n",
              "      <td>13.2</td>\n",
              "      <td>188</td>\n",
              "      <td>59</td>\n",
              "      <td>26.9</td>\n",
              "      <td>2</td>\n",
              "    </tr>\n",
              "    <tr>\n",
              "      <th>42</th>\n",
              "      <td>Texas</td>\n",
              "      <td>12.7</td>\n",
              "      <td>201</td>\n",
              "      <td>80</td>\n",
              "      <td>25.5</td>\n",
              "      <td>2</td>\n",
              "    </tr>\n",
              "    <tr>\n",
              "      <th>43</th>\n",
              "      <td>Utah</td>\n",
              "      <td>3.2</td>\n",
              "      <td>120</td>\n",
              "      <td>80</td>\n",
              "      <td>22.9</td>\n",
              "      <td>1</td>\n",
              "    </tr>\n",
              "    <tr>\n",
              "      <th>44</th>\n",
              "      <td>Vermont</td>\n",
              "      <td>2.2</td>\n",
              "      <td>48</td>\n",
              "      <td>32</td>\n",
              "      <td>11.2</td>\n",
              "      <td>1</td>\n",
              "    </tr>\n",
              "    <tr>\n",
              "      <th>45</th>\n",
              "      <td>Virginia</td>\n",
              "      <td>8.5</td>\n",
              "      <td>156</td>\n",
              "      <td>63</td>\n",
              "      <td>20.7</td>\n",
              "      <td>2</td>\n",
              "    </tr>\n",
              "    <tr>\n",
              "      <th>46</th>\n",
              "      <td>Washington</td>\n",
              "      <td>4.0</td>\n",
              "      <td>145</td>\n",
              "      <td>73</td>\n",
              "      <td>26.2</td>\n",
              "      <td>2</td>\n",
              "    </tr>\n",
              "    <tr>\n",
              "      <th>47</th>\n",
              "      <td>West Virginia</td>\n",
              "      <td>5.7</td>\n",
              "      <td>81</td>\n",
              "      <td>39</td>\n",
              "      <td>9.3</td>\n",
              "      <td>1</td>\n",
              "    </tr>\n",
              "    <tr>\n",
              "      <th>48</th>\n",
              "      <td>Wisconsin</td>\n",
              "      <td>2.6</td>\n",
              "      <td>53</td>\n",
              "      <td>66</td>\n",
              "      <td>10.8</td>\n",
              "      <td>1</td>\n",
              "    </tr>\n",
              "    <tr>\n",
              "      <th>49</th>\n",
              "      <td>Wyoming</td>\n",
              "      <td>6.8</td>\n",
              "      <td>161</td>\n",
              "      <td>60</td>\n",
              "      <td>15.6</td>\n",
              "      <td>2</td>\n",
              "    </tr>\n",
              "  </tbody>\n",
              "</table>\n",
              "</div>"
            ],
            "text/plain": [
              "             State  Murder  Assault  UrbanPop  Rape  predict\n",
              "0          Alabama    13.2      236        58  21.2        0\n",
              "1           Alaska    10.0      263        48  44.5        0\n",
              "2          Arizona     8.1      294        80  31.0        0\n",
              "3         Arkansas     8.8      190        50  19.5        2\n",
              "4       California     9.0      276        91  40.6        0\n",
              "5         Colorado     7.9      204        78  38.7        2\n",
              "6      Connecticut     3.3      110        77  11.1        1\n",
              "7         Delaware     5.9      238        72  15.8        0\n",
              "8          Florida    15.4      335        80  31.9        0\n",
              "9          Georgia    17.4      211        60  25.8        2\n",
              "10          Hawaii     5.3       46        83  20.2        1\n",
              "11           Idaho     2.6      120        54  14.2        1\n",
              "12        Illinois    10.4      249        83  24.0        0\n",
              "13         Indiana     7.2      113        65  21.0        1\n",
              "14            Iowa     2.2       56        57  11.3        1\n",
              "15          Kansas     6.0      115        66  18.0        1\n",
              "16        Kentucky     9.7      109        52  16.3        1\n",
              "17       Louisiana    15.4      249        66  22.2        0\n",
              "18           Maine     2.1       83        51   7.8        1\n",
              "19        Maryland    11.3      300        67  27.8        0\n",
              "20   Massachusetts     4.4      149        85  16.3        2\n",
              "21        Michigan    12.1      255        74  35.1        0\n",
              "22       Minnesota     2.7       72        66  14.9        1\n",
              "23     Mississippi    16.1      259        44  17.1        0\n",
              "24        Missouri     9.0      178        70  28.2        2\n",
              "25         Montana     6.0      109        53  16.4        1\n",
              "26        Nebraska     4.3      102        62  16.5        1\n",
              "27          Nevada    12.2      252        81  46.0        0\n",
              "28   New Hampshire     2.1       57        56   9.5        1\n",
              "29      New Jersey     7.4      159        89  18.8        2\n",
              "30      New Mexico    11.4      285        70  32.1        0\n",
              "31        New York    11.1      254        86  26.1        0\n",
              "32  North Carolina    13.0      337        45  16.1        0\n",
              "33    North Dakota     0.8       45        44   7.3        1\n",
              "34            Ohio     7.3      120        75  21.4        1\n",
              "35        Oklahoma     6.6      151        68  20.0        2\n",
              "36          Oregon     4.9      159        67  29.3        2\n",
              "37    Pennsylvania     6.3      106        72  14.9        1\n",
              "38    Rhode Island     3.4      174        87   8.3        2\n",
              "39  South Carolina    14.4      279        48  22.5        0\n",
              "40    South Dakota     3.8       86        45  12.8        1\n",
              "41       Tennessee    13.2      188        59  26.9        2\n",
              "42           Texas    12.7      201        80  25.5        2\n",
              "43            Utah     3.2      120        80  22.9        1\n",
              "44         Vermont     2.2       48        32  11.2        1\n",
              "45        Virginia     8.5      156        63  20.7        2\n",
              "46      Washington     4.0      145        73  26.2        2\n",
              "47   West Virginia     5.7       81        39   9.3        1\n",
              "48       Wisconsin     2.6       53        66  10.8        1\n",
              "49         Wyoming     6.8      161        60  15.6        2"
            ]
          },
          "execution_count": 213,
          "metadata": {
            "tags": []
          },
          "output_type": "execute_result"
        }
      ],
      "source": [
        "# Evaluación\n",
        "clust = kmeans.predict(sel_data) # Realizamos la predicción\n",
        "# clust\n",
        "data['predict'] = clust.tolist() # Agregamos la predicción a la data origianl\n",
        "data"
      ]
    },
    {
      "cell_type": "code",
      "execution_count": 214,
      "metadata": {
        "colab": {
          "base_uri": "https://localhost:8080/",
          "height": 357
        },
        "id": "bXCTzfc3ynZu",
        "outputId": "2c06e4b3-7150-408c-dbc9-0336c7e91b10"
      },
      "outputs": [
        {
          "data": {
            "text/plain": [
              "<matplotlib.collections.PathCollection at 0x7f872af66910>"
            ]
          },
          "execution_count": 214,
          "metadata": {
            "tags": []
          },
          "output_type": "execute_result"
        },
        {
          "data": {
            "image/png": "[encoded data removed]",
            "text/plain": [
              "<Figure size 1152x432 with 3 Axes>"
            ]
          },
          "metadata": {
            "needs_background": "light",
            "tags": []
          },
          "output_type": "display_data"
        }
      ],
      "source": [
        "# Graficación de los Clústeres\n",
        "color_map = np.array(['b','g','r']) ## Seteamos gama de colores\n",
        "\n",
        "plt.figure(figsize=(16, 6))\n",
        "\n",
        "plt.subplot(1, 3, 1)\n",
        "plt.title('Murder vs Assault', size=18)\n",
        "plt.scatter(sel_data['Murder'], sel_data['Assault'], s=10, color = color_map[clust])\n",
        "plt.scatter(kmeans.cluster_centers_[:, 0],\n",
        "        kmeans.cluster_centers_[:, 1],\n",
        "        marker = '*',\n",
        "        s = 250,\n",
        "        color = 'black')\n",
        "\n",
        "plt.subplot(1, 3, 2)\n",
        "plt.title('Murder vs Rape', size=18)\n",
        "plt.scatter(sel_data['Murder'], sel_data['Rape'], s=10, color = color_map[clust])\n",
        "plt.scatter(kmeans.cluster_centers_[:, 0],\n",
        "        kmeans.cluster_centers_[:, 3],\n",
        "        marker = '*',\n",
        "        s = 250,\n",
        "        color = 'black')\n",
        "\n",
        "plt.subplot(1, 3, 3)\n",
        "plt.title('Murder vs UrbanPop', size=18)\n",
        "plt.scatter(sel_data['Murder'], sel_data['UrbanPop'], s=10, color = color_map[clust])\n",
        "plt.scatter(kmeans.cluster_centers_[:, 0],\n",
        "        kmeans.cluster_centers_[:, 2],\n",
        "        marker = '*',\n",
        "        s = 250,\n",
        "        color = 'black')\n"
      ]
    },
    {
      "cell_type": "code",
      "execution_count": 215,
      "metadata": {
        "colab": {
          "base_uri": "https://localhost:8080/",
          "height": 359
        },
        "id": "pK_lV9hJAq1D",
        "outputId": "dde434ee-3d01-4382-dc84-3db34b2ced42"
      },
      "outputs": [
        {
          "data": {
            "text/plain": [
              "<matplotlib.collections.PathCollection at 0x7f872ae733d0>"
            ]
          },
          "execution_count": 215,
          "metadata": {
            "tags": []
          },
          "output_type": "execute_result"
        },
        {
          "data": {
            "image/png": "[encoded data removed]",
            "text/plain": [
              "<Figure size 1152x432 with 3 Axes>"
            ]
          },
          "metadata": {
            "needs_background": "light",
            "tags": []
          },
          "output_type": "display_data"
        }
      ],
      "source": [
        "# Graficación de los Clústeres\n",
        "plt.figure(figsize=(16, 6))\n",
        "plt.subplot(1, 3, 1)\n",
        "plt.title('Assault vs Rape', size=18)\n",
        "plt.scatter(sel_data['Assault'], sel_data['Rape'], s=10, color = color_map[clust])\n",
        "plt.scatter(kmeans.cluster_centers_[:, 1],\n",
        "        kmeans.cluster_centers_[:, 3],\n",
        "        marker = '*',\n",
        "        s = 250,\n",
        "        color = 'black')\n",
        "\n",
        "plt.subplot(1, 3, 2)\n",
        "plt.title('Assault vs UrbanPop', size=18)\n",
        "plt.scatter(sel_data['Assault'], sel_data['UrbanPop'], s=10, color = color_map[clust])\n",
        "plt.scatter(kmeans.cluster_centers_[:, 1],\n",
        "        kmeans.cluster_centers_[:, 2],\n",
        "        marker = '*',\n",
        "        s = 250,\n",
        "        color = 'black')\n",
        "\n",
        "plt.subplot(1, 3, 3)\n",
        "plt.title('UrbanPop vs Rape', size=18)\n",
        "plt.scatter(sel_data['UrbanPop'], sel_data['Rape'], s=10, color = color_map[clust])\n",
        "plt.scatter(kmeans.cluster_centers_[:, 2],\n",
        "        kmeans.cluster_centers_[:, 3],\n",
        "        marker = '*',\n",
        "        s = 250,\n",
        "        color = 'black')"
      ]
    },
    {
      "cell_type": "markdown",
      "metadata": {
        "id": "FIGEw61RBqRZ"
      },
      "source": [
        "### Presentar el listado de los estados en cada uno de los clústeres"
      ]
    },
    {
      "cell_type": "markdown",
      "metadata": {
        "id": "9fHCUhKE4jYG"
      },
      "source": [
        "\n",
        "\n",
        "**Explicación**: Se puede evidenciar que para los casos: \n",
        "* Asaltos vs muertes\n",
        "* Asaltos vs Violaciones\n",
        "* Asaltos vs Población urbana\n",
        "\n",
        "Las agrupaciones son muy evidentes en base a los centroides obtenidos.\n",
        "\n",
        "\n"
      ]
    },
    {
      "cell_type": "code",
      "execution_count": 216,
      "metadata": {
        "colab": {
          "base_uri": "https://localhost:8080/"
        },
        "id": "8AqZ_Hbz8Lxf",
        "outputId": "c5c31170-8af8-4f1b-ad53-e72a410a6356"
      },
      "outputs": [
        {
          "name": "stdout",
          "output_type": "stream",
          "text": [
            "************\n",
            "Clúster 0\n",
            "0            Alabama\n",
            "1             Alaska\n",
            "2            Arizona\n",
            "4         California\n",
            "7           Delaware\n",
            "8            Florida\n",
            "12          Illinois\n",
            "17         Louisiana\n",
            "19          Maryland\n",
            "21          Michigan\n",
            "23       Mississippi\n",
            "27            Nevada\n",
            "30        New Mexico\n",
            "31          New York\n",
            "32    North Carolina\n",
            "39    South Carolina\n",
            "Name: State, dtype: object\n",
            "************\n",
            "Clúster 1\n",
            "6       Connecticut\n",
            "10           Hawaii\n",
            "11            Idaho\n",
            "13          Indiana\n",
            "14             Iowa\n",
            "15           Kansas\n",
            "16         Kentucky\n",
            "18            Maine\n",
            "22        Minnesota\n",
            "25          Montana\n",
            "26         Nebraska\n",
            "28    New Hampshire\n",
            "33     North Dakota\n",
            "34             Ohio\n",
            "37     Pennsylvania\n",
            "40     South Dakota\n",
            "43             Utah\n",
            "44          Vermont\n",
            "47    West Virginia\n",
            "48        Wisconsin\n",
            "Name: State, dtype: object\n",
            "************\n",
            "Clúster 2\n",
            "3          Arkansas\n",
            "5          Colorado\n",
            "9           Georgia\n",
            "20    Massachusetts\n",
            "24         Missouri\n",
            "29       New Jersey\n",
            "35         Oklahoma\n",
            "36           Oregon\n",
            "38     Rhode Island\n",
            "41        Tennessee\n",
            "42            Texas\n",
            "45         Virginia\n",
            "46       Washington\n",
            "49          Wyoming\n",
            "Name: State, dtype: object\n"
          ]
        }
      ],
      "source": [
        "# Imprime listado de estados por clúster\n",
        "for i in range(max(clust) + 1):\n",
        "    print (\"************\")\n",
        "    print (\"Clúster\", i)\n",
        "    print (data[\"State\"][clust == i])"
      ]
    },
    {
      "cell_type": "code",
      "execution_count": 217,
      "metadata": {
        "colab": {
          "base_uri": "https://localhost:8080/",
          "height": 145
        },
        "id": "Ct-gTspMC0Xl",
        "outputId": "e74a2ec0-5597-4568-e9ee-7aac19d2c0dc"
      },
      "outputs": [
        {
          "data": {
            "text/html": [
              "<style  type=\"text/css\" >\n",
              "#T_a8ca262a_dcef_11eb_a424_0242ac1c0002row0_col0,#T_a8ca262a_dcef_11eb_a424_0242ac1c0002row0_col2,#T_a8ca262a_dcef_11eb_a424_0242ac1c0002row0_col3,#T_a8ca262a_dcef_11eb_a424_0242ac1c0002row0_col5,#T_a8ca262a_dcef_11eb_a424_0242ac1c0002row0_col6,#T_a8ca262a_dcef_11eb_a424_0242ac1c0002row0_col7,#T_a8ca262a_dcef_11eb_a424_0242ac1c0002row2_col1,#T_a8ca262a_dcef_11eb_a424_0242ac1c0002row2_col4{\n",
              "            background:  red;\n",
              "        }</style><table id=\"T_a8ca262a_dcef_11eb_a424_0242ac1c0002\" ><thead>    <tr>        <th class=\"blank level0\" ></th>        <th class=\"col_heading level0 col0\" colspan=2>Murder</th>        <th class=\"col_heading level0 col2\" colspan=2>Assault</th>        <th class=\"col_heading level0 col4\" colspan=2>UrbanPop</th>        <th class=\"col_heading level0 col6\" colspan=2>Rape</th>    </tr>    <tr>        <th class=\"blank level1\" ></th>        <th class=\"col_heading level1 col0\" >min</th>        <th class=\"col_heading level1 col1\" >max</th>        <th class=\"col_heading level1 col2\" >min</th>        <th class=\"col_heading level1 col3\" >max</th>        <th class=\"col_heading level1 col4\" >min</th>        <th class=\"col_heading level1 col5\" >max</th>        <th class=\"col_heading level1 col6\" >min</th>        <th class=\"col_heading level1 col7\" >max</th>    </tr>    <tr>        <th class=\"index_name level0\" >predict</th>        <th class=\"blank\" ></th>        <th class=\"blank\" ></th>        <th class=\"blank\" ></th>        <th class=\"blank\" ></th>        <th class=\"blank\" ></th>        <th class=\"blank\" ></th>        <th class=\"blank\" ></th>        <th class=\"blank\" ></th>    </tr></thead><tbody>\n",
              "                <tr>\n",
              "                        <th id=\"T_a8ca262a_dcef_11eb_a424_0242ac1c0002level0_row0\" class=\"row_heading level0 row0\" >0</th>\n",
              "                        <td id=\"T_a8ca262a_dcef_11eb_a424_0242ac1c0002row0_col0\" class=\"data row0 col0\" >5.900000</td>\n",
              "                        <td id=\"T_a8ca262a_dcef_11eb_a424_0242ac1c0002row0_col1\" class=\"data row0 col1\" >16.100000</td>\n",
              "                        <td id=\"T_a8ca262a_dcef_11eb_a424_0242ac1c0002row0_col2\" class=\"data row0 col2\" >236</td>\n",
              "                        <td id=\"T_a8ca262a_dcef_11eb_a424_0242ac1c0002row0_col3\" class=\"data row0 col3\" >337</td>\n",
              "                        <td id=\"T_a8ca262a_dcef_11eb_a424_0242ac1c0002row0_col4\" class=\"data row0 col4\" >44</td>\n",
              "                        <td id=\"T_a8ca262a_dcef_11eb_a424_0242ac1c0002row0_col5\" class=\"data row0 col5\" >91</td>\n",
              "                        <td id=\"T_a8ca262a_dcef_11eb_a424_0242ac1c0002row0_col6\" class=\"data row0 col6\" >15.800000</td>\n",
              "                        <td id=\"T_a8ca262a_dcef_11eb_a424_0242ac1c0002row0_col7\" class=\"data row0 col7\" >46.000000</td>\n",
              "            </tr>\n",
              "            <tr>\n",
              "                        <th id=\"T_a8ca262a_dcef_11eb_a424_0242ac1c0002level0_row1\" class=\"row_heading level0 row1\" >1</th>\n",
              "                        <td id=\"T_a8ca262a_dcef_11eb_a424_0242ac1c0002row1_col0\" class=\"data row1 col0\" >0.800000</td>\n",
              "                        <td id=\"T_a8ca262a_dcef_11eb_a424_0242ac1c0002row1_col1\" class=\"data row1 col1\" >9.700000</td>\n",
              "                        <td id=\"T_a8ca262a_dcef_11eb_a424_0242ac1c0002row1_col2\" class=\"data row1 col2\" >45</td>\n",
              "                        <td id=\"T_a8ca262a_dcef_11eb_a424_0242ac1c0002row1_col3\" class=\"data row1 col3\" >120</td>\n",
              "                        <td id=\"T_a8ca262a_dcef_11eb_a424_0242ac1c0002row1_col4\" class=\"data row1 col4\" >32</td>\n",
              "                        <td id=\"T_a8ca262a_dcef_11eb_a424_0242ac1c0002row1_col5\" class=\"data row1 col5\" >83</td>\n",
              "                        <td id=\"T_a8ca262a_dcef_11eb_a424_0242ac1c0002row1_col6\" class=\"data row1 col6\" >7.300000</td>\n",
              "                        <td id=\"T_a8ca262a_dcef_11eb_a424_0242ac1c0002row1_col7\" class=\"data row1 col7\" >22.900000</td>\n",
              "            </tr>\n",
              "            <tr>\n",
              "                        <th id=\"T_a8ca262a_dcef_11eb_a424_0242ac1c0002level0_row2\" class=\"row_heading level0 row2\" >2</th>\n",
              "                        <td id=\"T_a8ca262a_dcef_11eb_a424_0242ac1c0002row2_col0\" class=\"data row2 col0\" >3.400000</td>\n",
              "                        <td id=\"T_a8ca262a_dcef_11eb_a424_0242ac1c0002row2_col1\" class=\"data row2 col1\" >17.400000</td>\n",
              "                        <td id=\"T_a8ca262a_dcef_11eb_a424_0242ac1c0002row2_col2\" class=\"data row2 col2\" >145</td>\n",
              "                        <td id=\"T_a8ca262a_dcef_11eb_a424_0242ac1c0002row2_col3\" class=\"data row2 col3\" >211</td>\n",
              "                        <td id=\"T_a8ca262a_dcef_11eb_a424_0242ac1c0002row2_col4\" class=\"data row2 col4\" >50</td>\n",
              "                        <td id=\"T_a8ca262a_dcef_11eb_a424_0242ac1c0002row2_col5\" class=\"data row2 col5\" >89</td>\n",
              "                        <td id=\"T_a8ca262a_dcef_11eb_a424_0242ac1c0002row2_col6\" class=\"data row2 col6\" >8.300000</td>\n",
              "                        <td id=\"T_a8ca262a_dcef_11eb_a424_0242ac1c0002row2_col7\" class=\"data row2 col7\" >38.700000</td>\n",
              "            </tr>\n",
              "    </tbody></table>"
            ],
            "text/plain": [
              "<pandas.io.formats.style.Styler at 0x7f872aef9590>"
            ]
          },
          "execution_count": 217,
          "metadata": {
            "tags": []
          },
          "output_type": "execute_result"
        }
      ],
      "source": [
        "# Analizando los resultados predecidos\n",
        "analisis = data.groupby('predict').agg([\"min\", \"max\"]) # agrupamos por cluster\n",
        "del analisis['State']\n",
        "# Pintamos las coincidencias maximas de casos con mayor criticidad\n",
        "analisis.style.apply(lambda x: [\"background: red\" if v == max(x) else \"\" for v in x], axis = 0)"
      ]
    },
    {
      "cell_type": "markdown",
      "metadata": {
        "id": "W9Zwcf1Hfsrt"
      },
      "source": [
        "## 6) Conclusiones y Recomendaciones\n"
      ]
    },
    {
      "cell_type": "markdown",
      "metadata": {
        "id": "yxHAh7FxE43R"
      },
      "source": [
        "### Conclusiones\n",
        "* En el analsis exploratorio se observó que existe una alta correlación entre los asaltos y muertes.\n",
        "* Mediante los dos métodos para determinar el número de clústeres óptimos, nos sugieren un mínimo de 2 e ideal de 3 grupos.\n",
        "* Del entrenamiento realizado se persive una débil o equivocada agrupación  para las gráficas en los casos :\n",
        "  * Muertes vs Violaciones.\n",
        "  * Muertes vs población urbana.\n",
        "  * Población urbana vs violaciones.\n",
        "* Se evidencian 3 grupos de casos\n",
        "  * El Grupo 0, se caracteriza por poseer los estados más seguros, dónde el índice de violencia es bajo comparado con los demás.\n",
        "  * El Grupo 1, es dónde existe un elevado número de asaltos y violaciones, pero no necesariamente terminan en muerte.\n",
        "  * El Grupo 2, es dónde existen los estados con mayor índice de mortalidad."
      ]
    },
    {
      "cell_type": "markdown",
      "metadata": {
        "id": "sOlprnuLU1nI"
      },
      "source": [
        "### Recomendaciones\n",
        "* Se recomienda ejecutar mediante una metodología para obtener un mejor análisis del caso de estudio.\n",
        "* Se recomienda aplicar al menos dos métodos para determinar el número minimo de clústeres optimos.\n",
        "* Al identificar malas clisificaciones entre los cruces de variables, se recomienda probar la creación de clusters con otros métodos como pueden ser Aglomerativo, DBSCAN.\n",
        "\n"
      ]
    }
  ],
  "metadata": {
    "colab": {
      "collapsed_sections": [],
      "name": "finalProject-M3-Ej3.ipynb",
      "provenance": []
    },
    "kernelspec": {
      "display_name": "Python 3",
      "name": "python3"
    },
    "language_info": {
      "name": "python"
    }
  },
  "nbformat": 4,
  "nbformat_minor": 0
}
